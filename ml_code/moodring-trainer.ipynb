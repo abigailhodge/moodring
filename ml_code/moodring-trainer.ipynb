{
 "cells": [
  {
   "cell_type": "code",
   "execution_count": 2,
   "metadata": {},
   "outputs": [],
   "source": [
    "import re\n",
    "import os\n",
    "import math\n",
    "from sklearn.neural_network import MLPClassifier\n",
    "from sklearn.metrics import accuracy_score\n",
    "import random\n",
    "import numpy\n",
    "import pandas as pd\n",
    "from gensim.models import KeyedVectors\n",
    "from numpy import array"
   ]
  },
  {
   "cell_type": "code",
   "execution_count": 8,
   "metadata": {},
   "outputs": [],
   "source": [
    "vec_file = KeyedVectors.load_word2vec_format('GoogleNews-vectors-negative300.bin', binary=True, limit=50000)"
   ]
  },
  {
   "cell_type": "code",
   "execution_count": 11,
   "metadata": {},
   "outputs": [],
   "source": [
    "import pickle\n",
    "pickle.dump(vec_file, open('vectors.sav', 'wb'))"
   ]
  },
  {
   "cell_type": "code",
   "execution_count": 9,
   "metadata": {},
   "outputs": [],
   "source": [
    "def clean_and_tokenize_file(file_name):\n",
    "    file = open(file_name, encoding='latin-1')\n",
    "    raw_text= file.read()\n",
    "    words = raw_text.split()\n",
    "    words = [x for x in words if re.fullmatch('\\w+', x)]\n",
    "    return words\n",
    "\n",
    "\n",
    "def word2vec_vector(word2vec, review, tag):\n",
    "    tokenized_review = clean_and_tokenize_file(review)\n",
    "    vec_list = []\n",
    "    for word in tokenized_review:\n",
    "        if word in word2vec:\n",
    "            vec_list.append(word2vec[word])\n",
    "    vector_array = numpy.array(vec_list)\n",
    "    if tag == 0:\n",
    "        return numpy.mean(vector_array, axis=0)\n",
    "    else:\n",
    "        return numpy.mean(vector_array, axis=0), tag\n",
    "\n",
    "\n",
    "def get_all_word2vec_vectors(pos_dir, neg_dir, word2vec):\n",
    "    pos_features = [word2vec_vector(word2vec, pos_dir + file, 1) for file in os.listdir(pos_dir) if file != '.DS_Store']\n",
    "    neg_features = [word2vec_vector(word2vec, neg_dir + file, -1) for file in os.listdir(neg_dir) if file != '.DS_Store']\n",
    "    feature_vectors = pos_features + neg_features\n",
    "    random.shuffle(feature_vectors)\n",
    "    return feature_vectors\n",
    "\n"
   ]
  },
  {
   "cell_type": "code",
   "execution_count": 12,
   "metadata": {},
   "outputs": [],
   "source": [
    "vectors = get_all_word2vec_vectors('train/pos/', 'train/neg/', vec_file)"
   ]
  },
  {
   "cell_type": "code",
   "execution_count": 13,
   "metadata": {},
   "outputs": [],
   "source": [
    "def train_mlp(vectors, first_layer, alpha_value, activation_function):\n",
    "    x = [feature[0] for feature in vectors]\n",
    "    y = [feature[1] for feature in vectors]\n",
    "    model = MLPClassifier(hidden_layer_sizes=(first_layer,10),alpha=alpha_value,activation=activation_function)\n",
    "    model.fit(x, y)\n",
    "    return model\n",
    "\n",
    "def test_mlp(model, test):\n",
    "    test_x = array([feature[0] for feature in test])\n",
    "    test_y = array([feature[1] for feature in test])\n",
    "    predictions = model.predict(test_x)\n",
    "    return accuracy_score(test_y,predictions)\n",
    "\n",
    "def cross_validate(features, num_chunks, first_layer, alpha_value, activation_function):\n",
    "    chunk_size = math.floor(len(features) / num_chunks)\n",
    "    accuracy = 0\n",
    "    print(len(features))\n",
    "    for i in range(num_chunks):\n",
    "        if i == 0:\n",
    "            train_set = features[chunk_size:]\n",
    "            test_set = features[:chunk_size]\n",
    "        elif i == num_chunks - 1:\n",
    "            train_set = features[:i * chunk_size]\n",
    "            test_set = features[i * chunk_size:]\n",
    "        else:\n",
    "            train_set = features[:i*chunk_size] + features[(i+1)*chunk_size:]\n",
    "            test_set = features[i*chunk_size:(i+1)*chunk_size]     \n",
    "        model = train_mlp(train_set, first_layer, alpha_value, activation_function)\n",
    "        model_accuracy = test_mlp(model, test_set)\n",
    "        accuracy += model_accuracy\n",
    "    return accuracy / num_chunks\n",
    "\n",
    "def grid_search(output_file, features, first_layer_options, alpha_value_options, activation_function_options):\n",
    "    file = open(output_file, 'w')\n",
    "    for first_layer in first_layer_options:\n",
    "        for alpha_value in alpha_value_options:\n",
    "            for activation_function in activation_function_options:\n",
    "                accuracy = cross_validate(features, 10, first_layer, alpha_value, activation_function)\n",
    "                print('ACCURACY IS {0} FOR FIRST LAYER {1}, ALPHA VALUE {2}, ACTIVATION FUNCTION {3}'.format(accuracy, first_layer, alpha_value, activation_function))\n",
    "                file.write('\\nACCURACY IS {0} FOR FIRST LAYER {1}, ALPHA VALUE {2}, ACTIVATION FUNCTION {3}'.format(accuracy, first_layer, alpha_value, activation_function))\n",
    "    file.close()\n",
    "\n"
   ]
  },
  {
   "cell_type": "code",
   "execution_count": 8,
   "metadata": {},
   "outputs": [
    {
     "name": "stdout",
     "output_type": "stream",
     "text": [
      "25000\n",
      "ACCURACY IS 0.8417200000000001 FOR FIRST LAYER 5, ALPHA VALUE 0.01, ACTIVATION FUNCTION tanh\n",
      "25000\n"
     ]
    },
    {
     "name": "stderr",
     "output_type": "stream",
     "text": [
      "/anaconda3/lib/python3.7/site-packages/sklearn/neural_network/multilayer_perceptron.py:562: ConvergenceWarning: Stochastic Optimizer: Maximum iterations (200) reached and the optimization hasn't converged yet.\n",
      "  % self.max_iter, ConvergenceWarning)\n",
      "/anaconda3/lib/python3.7/site-packages/sklearn/neural_network/multilayer_perceptron.py:562: ConvergenceWarning: Stochastic Optimizer: Maximum iterations (200) reached and the optimization hasn't converged yet.\n",
      "  % self.max_iter, ConvergenceWarning)\n",
      "/anaconda3/lib/python3.7/site-packages/sklearn/neural_network/multilayer_perceptron.py:562: ConvergenceWarning: Stochastic Optimizer: Maximum iterations (200) reached and the optimization hasn't converged yet.\n",
      "  % self.max_iter, ConvergenceWarning)\n",
      "/anaconda3/lib/python3.7/site-packages/sklearn/neural_network/multilayer_perceptron.py:562: ConvergenceWarning: Stochastic Optimizer: Maximum iterations (200) reached and the optimization hasn't converged yet.\n",
      "  % self.max_iter, ConvergenceWarning)\n"
     ]
    },
    {
     "name": "stdout",
     "output_type": "stream",
     "text": [
      "ACCURACY IS 0.8423200000000002 FOR FIRST LAYER 5, ALPHA VALUE 0.01, ACTIVATION FUNCTION relu\n",
      "25000\n"
     ]
    },
    {
     "name": "stderr",
     "output_type": "stream",
     "text": [
      "/anaconda3/lib/python3.7/site-packages/sklearn/neural_network/multilayer_perceptron.py:562: ConvergenceWarning: Stochastic Optimizer: Maximum iterations (200) reached and the optimization hasn't converged yet.\n",
      "  % self.max_iter, ConvergenceWarning)\n",
      "/anaconda3/lib/python3.7/site-packages/sklearn/neural_network/multilayer_perceptron.py:562: ConvergenceWarning: Stochastic Optimizer: Maximum iterations (200) reached and the optimization hasn't converged yet.\n",
      "  % self.max_iter, ConvergenceWarning)\n",
      "/anaconda3/lib/python3.7/site-packages/sklearn/neural_network/multilayer_perceptron.py:562: ConvergenceWarning: Stochastic Optimizer: Maximum iterations (200) reached and the optimization hasn't converged yet.\n",
      "  % self.max_iter, ConvergenceWarning)\n"
     ]
    },
    {
     "name": "stdout",
     "output_type": "stream",
     "text": [
      "ACCURACY IS 0.84152 FOR FIRST LAYER 5, ALPHA VALUE 0.01, ACTIVATION FUNCTION logistic\n",
      "25000\n",
      "ACCURACY IS 0.8402000000000001 FOR FIRST LAYER 5, ALPHA VALUE 0.1, ACTIVATION FUNCTION tanh\n",
      "25000\n",
      "ACCURACY IS 0.84084 FOR FIRST LAYER 5, ALPHA VALUE 0.1, ACTIVATION FUNCTION relu\n",
      "25000\n"
     ]
    },
    {
     "name": "stderr",
     "output_type": "stream",
     "text": [
      "/anaconda3/lib/python3.7/site-packages/sklearn/neural_network/multilayer_perceptron.py:562: ConvergenceWarning: Stochastic Optimizer: Maximum iterations (200) reached and the optimization hasn't converged yet.\n",
      "  % self.max_iter, ConvergenceWarning)\n"
     ]
    },
    {
     "name": "stdout",
     "output_type": "stream",
     "text": [
      "ACCURACY IS 0.7738 FOR FIRST LAYER 5, ALPHA VALUE 0.1, ACTIVATION FUNCTION logistic\n",
      "25000\n",
      "ACCURACY IS 0.8346 FOR FIRST LAYER 5, ALPHA VALUE 1, ACTIVATION FUNCTION tanh\n",
      "25000\n",
      "ACCURACY IS 0.8354800000000001 FOR FIRST LAYER 5, ALPHA VALUE 1, ACTIVATION FUNCTION relu\n",
      "25000\n",
      "ACCURACY IS 0.4936 FOR FIRST LAYER 5, ALPHA VALUE 1, ACTIVATION FUNCTION logistic\n",
      "25000\n",
      "ACCURACY IS 0.84016 FOR FIRST LAYER 10, ALPHA VALUE 0.01, ACTIVATION FUNCTION tanh\n",
      "25000\n"
     ]
    },
    {
     "name": "stderr",
     "output_type": "stream",
     "text": [
      "/anaconda3/lib/python3.7/site-packages/sklearn/neural_network/multilayer_perceptron.py:562: ConvergenceWarning: Stochastic Optimizer: Maximum iterations (200) reached and the optimization hasn't converged yet.\n",
      "  % self.max_iter, ConvergenceWarning)\n",
      "/anaconda3/lib/python3.7/site-packages/sklearn/neural_network/multilayer_perceptron.py:562: ConvergenceWarning: Stochastic Optimizer: Maximum iterations (200) reached and the optimization hasn't converged yet.\n",
      "  % self.max_iter, ConvergenceWarning)\n",
      "/anaconda3/lib/python3.7/site-packages/sklearn/neural_network/multilayer_perceptron.py:562: ConvergenceWarning: Stochastic Optimizer: Maximum iterations (200) reached and the optimization hasn't converged yet.\n",
      "  % self.max_iter, ConvergenceWarning)\n",
      "/anaconda3/lib/python3.7/site-packages/sklearn/neural_network/multilayer_perceptron.py:562: ConvergenceWarning: Stochastic Optimizer: Maximum iterations (200) reached and the optimization hasn't converged yet.\n",
      "  % self.max_iter, ConvergenceWarning)\n"
     ]
    },
    {
     "name": "stdout",
     "output_type": "stream",
     "text": [
      "ACCURACY IS 0.8418800000000001 FOR FIRST LAYER 10, ALPHA VALUE 0.01, ACTIVATION FUNCTION relu\n",
      "25000\n"
     ]
    },
    {
     "name": "stderr",
     "output_type": "stream",
     "text": [
      "/anaconda3/lib/python3.7/site-packages/sklearn/neural_network/multilayer_perceptron.py:562: ConvergenceWarning: Stochastic Optimizer: Maximum iterations (200) reached and the optimization hasn't converged yet.\n",
      "  % self.max_iter, ConvergenceWarning)\n"
     ]
    },
    {
     "name": "stdout",
     "output_type": "stream",
     "text": [
      "ACCURACY IS 0.84052 FOR FIRST LAYER 10, ALPHA VALUE 0.01, ACTIVATION FUNCTION logistic\n",
      "25000\n",
      "ACCURACY IS 0.8428799999999999 FOR FIRST LAYER 10, ALPHA VALUE 0.1, ACTIVATION FUNCTION tanh\n",
      "25000\n",
      "ACCURACY IS 0.84016 FOR FIRST LAYER 10, ALPHA VALUE 0.1, ACTIVATION FUNCTION relu\n",
      "25000\n",
      "ACCURACY IS 0.8093999999999999 FOR FIRST LAYER 10, ALPHA VALUE 0.1, ACTIVATION FUNCTION logistic\n",
      "25000\n",
      "ACCURACY IS 0.8354799999999999 FOR FIRST LAYER 10, ALPHA VALUE 1, ACTIVATION FUNCTION tanh\n",
      "25000\n",
      "ACCURACY IS 0.83476 FOR FIRST LAYER 10, ALPHA VALUE 1, ACTIVATION FUNCTION relu\n",
      "25000\n",
      "ACCURACY IS 0.49440000000000006 FOR FIRST LAYER 10, ALPHA VALUE 1, ACTIVATION FUNCTION logistic\n",
      "25000\n",
      "ACCURACY IS 0.8402 FOR FIRST LAYER 15, ALPHA VALUE 0.01, ACTIVATION FUNCTION tanh\n",
      "25000\n"
     ]
    },
    {
     "name": "stderr",
     "output_type": "stream",
     "text": [
      "/anaconda3/lib/python3.7/site-packages/sklearn/neural_network/multilayer_perceptron.py:562: ConvergenceWarning: Stochastic Optimizer: Maximum iterations (200) reached and the optimization hasn't converged yet.\n",
      "  % self.max_iter, ConvergenceWarning)\n",
      "/anaconda3/lib/python3.7/site-packages/sklearn/neural_network/multilayer_perceptron.py:562: ConvergenceWarning: Stochastic Optimizer: Maximum iterations (200) reached and the optimization hasn't converged yet.\n",
      "  % self.max_iter, ConvergenceWarning)\n",
      "/anaconda3/lib/python3.7/site-packages/sklearn/neural_network/multilayer_perceptron.py:562: ConvergenceWarning: Stochastic Optimizer: Maximum iterations (200) reached and the optimization hasn't converged yet.\n",
      "  % self.max_iter, ConvergenceWarning)\n",
      "/anaconda3/lib/python3.7/site-packages/sklearn/neural_network/multilayer_perceptron.py:562: ConvergenceWarning: Stochastic Optimizer: Maximum iterations (200) reached and the optimization hasn't converged yet.\n",
      "  % self.max_iter, ConvergenceWarning)\n",
      "/anaconda3/lib/python3.7/site-packages/sklearn/neural_network/multilayer_perceptron.py:562: ConvergenceWarning: Stochastic Optimizer: Maximum iterations (200) reached and the optimization hasn't converged yet.\n",
      "  % self.max_iter, ConvergenceWarning)\n",
      "/anaconda3/lib/python3.7/site-packages/sklearn/neural_network/multilayer_perceptron.py:562: ConvergenceWarning: Stochastic Optimizer: Maximum iterations (200) reached and the optimization hasn't converged yet.\n",
      "  % self.max_iter, ConvergenceWarning)\n",
      "/anaconda3/lib/python3.7/site-packages/sklearn/neural_network/multilayer_perceptron.py:562: ConvergenceWarning: Stochastic Optimizer: Maximum iterations (200) reached and the optimization hasn't converged yet.\n",
      "  % self.max_iter, ConvergenceWarning)\n",
      "/anaconda3/lib/python3.7/site-packages/sklearn/neural_network/multilayer_perceptron.py:562: ConvergenceWarning: Stochastic Optimizer: Maximum iterations (200) reached and the optimization hasn't converged yet.\n",
      "  % self.max_iter, ConvergenceWarning)\n"
     ]
    },
    {
     "name": "stdout",
     "output_type": "stream",
     "text": [
      "ACCURACY IS 0.8411199999999999 FOR FIRST LAYER 15, ALPHA VALUE 0.01, ACTIVATION FUNCTION relu\n",
      "25000\n",
      "ACCURACY IS 0.84128 FOR FIRST LAYER 15, ALPHA VALUE 0.01, ACTIVATION FUNCTION logistic\n",
      "25000\n",
      "ACCURACY IS 0.8407199999999999 FOR FIRST LAYER 15, ALPHA VALUE 0.1, ACTIVATION FUNCTION tanh\n",
      "25000\n"
     ]
    },
    {
     "name": "stderr",
     "output_type": "stream",
     "text": [
      "/anaconda3/lib/python3.7/site-packages/sklearn/neural_network/multilayer_perceptron.py:562: ConvergenceWarning: Stochastic Optimizer: Maximum iterations (200) reached and the optimization hasn't converged yet.\n",
      "  % self.max_iter, ConvergenceWarning)\n"
     ]
    },
    {
     "name": "stdout",
     "output_type": "stream",
     "text": [
      "ACCURACY IS 0.8453999999999999 FOR FIRST LAYER 15, ALPHA VALUE 0.1, ACTIVATION FUNCTION relu\n",
      "25000\n",
      "ACCURACY IS 0.80404 FOR FIRST LAYER 15, ALPHA VALUE 0.1, ACTIVATION FUNCTION logistic\n",
      "25000\n",
      "ACCURACY IS 0.8346 FOR FIRST LAYER 15, ALPHA VALUE 1, ACTIVATION FUNCTION tanh\n",
      "25000\n",
      "ACCURACY IS 0.8311200000000001 FOR FIRST LAYER 15, ALPHA VALUE 1, ACTIVATION FUNCTION relu\n",
      "25000\n",
      "ACCURACY IS 0.4973599999999999 FOR FIRST LAYER 15, ALPHA VALUE 1, ACTIVATION FUNCTION logistic\n",
      "25000\n",
      "ACCURACY IS 0.8420400000000001 FOR FIRST LAYER 20, ALPHA VALUE 0.01, ACTIVATION FUNCTION tanh\n",
      "25000\n"
     ]
    },
    {
     "name": "stderr",
     "output_type": "stream",
     "text": [
      "/anaconda3/lib/python3.7/site-packages/sklearn/neural_network/multilayer_perceptron.py:562: ConvergenceWarning: Stochastic Optimizer: Maximum iterations (200) reached and the optimization hasn't converged yet.\n",
      "  % self.max_iter, ConvergenceWarning)\n",
      "/anaconda3/lib/python3.7/site-packages/sklearn/neural_network/multilayer_perceptron.py:562: ConvergenceWarning: Stochastic Optimizer: Maximum iterations (200) reached and the optimization hasn't converged yet.\n",
      "  % self.max_iter, ConvergenceWarning)\n",
      "/anaconda3/lib/python3.7/site-packages/sklearn/neural_network/multilayer_perceptron.py:562: ConvergenceWarning: Stochastic Optimizer: Maximum iterations (200) reached and the optimization hasn't converged yet.\n",
      "  % self.max_iter, ConvergenceWarning)\n",
      "/anaconda3/lib/python3.7/site-packages/sklearn/neural_network/multilayer_perceptron.py:562: ConvergenceWarning: Stochastic Optimizer: Maximum iterations (200) reached and the optimization hasn't converged yet.\n",
      "  % self.max_iter, ConvergenceWarning)\n",
      "/anaconda3/lib/python3.7/site-packages/sklearn/neural_network/multilayer_perceptron.py:562: ConvergenceWarning: Stochastic Optimizer: Maximum iterations (200) reached and the optimization hasn't converged yet.\n",
      "  % self.max_iter, ConvergenceWarning)\n",
      "/anaconda3/lib/python3.7/site-packages/sklearn/neural_network/multilayer_perceptron.py:562: ConvergenceWarning: Stochastic Optimizer: Maximum iterations (200) reached and the optimization hasn't converged yet.\n",
      "  % self.max_iter, ConvergenceWarning)\n",
      "/anaconda3/lib/python3.7/site-packages/sklearn/neural_network/multilayer_perceptron.py:562: ConvergenceWarning: Stochastic Optimizer: Maximum iterations (200) reached and the optimization hasn't converged yet.\n",
      "  % self.max_iter, ConvergenceWarning)\n",
      "/anaconda3/lib/python3.7/site-packages/sklearn/neural_network/multilayer_perceptron.py:562: ConvergenceWarning: Stochastic Optimizer: Maximum iterations (200) reached and the optimization hasn't converged yet.\n",
      "  % self.max_iter, ConvergenceWarning)\n",
      "/anaconda3/lib/python3.7/site-packages/sklearn/neural_network/multilayer_perceptron.py:562: ConvergenceWarning: Stochastic Optimizer: Maximum iterations (200) reached and the optimization hasn't converged yet.\n",
      "  % self.max_iter, ConvergenceWarning)\n",
      "/anaconda3/lib/python3.7/site-packages/sklearn/neural_network/multilayer_perceptron.py:562: ConvergenceWarning: Stochastic Optimizer: Maximum iterations (200) reached and the optimization hasn't converged yet.\n",
      "  % self.max_iter, ConvergenceWarning)\n"
     ]
    },
    {
     "name": "stdout",
     "output_type": "stream",
     "text": [
      "ACCURACY IS 0.8398399999999999 FOR FIRST LAYER 20, ALPHA VALUE 0.01, ACTIVATION FUNCTION relu\n",
      "25000\n"
     ]
    },
    {
     "name": "stderr",
     "output_type": "stream",
     "text": [
      "/anaconda3/lib/python3.7/site-packages/sklearn/neural_network/multilayer_perceptron.py:562: ConvergenceWarning: Stochastic Optimizer: Maximum iterations (200) reached and the optimization hasn't converged yet.\n",
      "  % self.max_iter, ConvergenceWarning)\n"
     ]
    },
    {
     "name": "stdout",
     "output_type": "stream",
     "text": [
      "ACCURACY IS 0.842 FOR FIRST LAYER 20, ALPHA VALUE 0.01, ACTIVATION FUNCTION logistic\n",
      "25000\n",
      "ACCURACY IS 0.8398 FOR FIRST LAYER 20, ALPHA VALUE 0.1, ACTIVATION FUNCTION tanh\n",
      "25000\n"
     ]
    },
    {
     "name": "stderr",
     "output_type": "stream",
     "text": [
      "/anaconda3/lib/python3.7/site-packages/sklearn/neural_network/multilayer_perceptron.py:562: ConvergenceWarning: Stochastic Optimizer: Maximum iterations (200) reached and the optimization hasn't converged yet.\n",
      "  % self.max_iter, ConvergenceWarning)\n"
     ]
    },
    {
     "name": "stdout",
     "output_type": "stream",
     "text": [
      "ACCURACY IS 0.84368 FOR FIRST LAYER 20, ALPHA VALUE 0.1, ACTIVATION FUNCTION relu\n",
      "25000\n",
      "ACCURACY IS 0.8386800000000001 FOR FIRST LAYER 20, ALPHA VALUE 0.1, ACTIVATION FUNCTION logistic\n",
      "25000\n",
      "ACCURACY IS 0.82944 FOR FIRST LAYER 20, ALPHA VALUE 1, ACTIVATION FUNCTION tanh\n",
      "25000\n",
      "ACCURACY IS 0.83536 FOR FIRST LAYER 20, ALPHA VALUE 1, ACTIVATION FUNCTION relu\n",
      "25000\n",
      "ACCURACY IS 0.49832 FOR FIRST LAYER 20, ALPHA VALUE 1, ACTIVATION FUNCTION logistic\n"
     ]
    }
   ],
   "source": [
    "alphas = [0.01, 0.1, 1]\n",
    "hidden_layers = [5, 10, 15, 20]\n",
    "activations = ['tanh', 'relu', 'logistic']\n",
    "\n",
    "grid_search('grid_search_results.txt', vectors, hidden_layers, alphas, activations)"
   ]
  },
  {
   "cell_type": "code",
   "execution_count": 14,
   "metadata": {},
   "outputs": [],
   "source": [
    "model = train_mlp(vectors, 15, 0.1, 'relu')"
   ]
  },
  {
   "cell_type": "code",
   "execution_count": 15,
   "metadata": {},
   "outputs": [],
   "source": [
    "test_features = get_all_word2vec_vectors('test/pos/', 'test/neg/', vec_file)"
   ]
  },
  {
   "cell_type": "code",
   "execution_count": 16,
   "metadata": {},
   "outputs": [
    {
     "name": "stdout",
     "output_type": "stream",
     "text": [
      "0.83724\n"
     ]
    }
   ],
   "source": [
    "test_scores = test_mlp(model, test_features)\n",
    "print(test_scores)"
   ]
  },
  {
   "cell_type": "code",
   "execution_count": 12,
   "metadata": {},
   "outputs": [],
   "source": [
    "import pickle\n",
    "pickle.dump(model, open('model.sav', 'wb'))"
   ]
  }
 ],
 "metadata": {
  "kernelspec": {
   "display_name": "Python 3",
   "language": "python",
   "name": "python3"
  },
  "language_info": {
   "codemirror_mode": {
    "name": "ipython",
    "version": 3
   },
   "file_extension": ".py",
   "mimetype": "text/x-python",
   "name": "python",
   "nbconvert_exporter": "python",
   "pygments_lexer": "ipython3",
   "version": "3.7.0"
  }
 },
 "nbformat": 4,
 "nbformat_minor": 2
}
